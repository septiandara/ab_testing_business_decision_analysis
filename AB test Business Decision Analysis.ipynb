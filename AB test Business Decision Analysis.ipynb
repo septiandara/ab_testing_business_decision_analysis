{
 "cells": [
  {
   "cell_type": "markdown",
   "id": "2b88f2be",
   "metadata": {},
   "source": [
    "# Online Store Business Decision Analysis"
   ]
  },
  {
   "cell_type": "code",
   "execution_count": 2,
   "id": "bbfaa92e",
   "metadata": {},
   "outputs": [],
   "source": [
    "import pandas as pd\n",
    "import numpy as np\n",
    "import matplotlib.pyplot as plt\n",
    "import seaborn as sns\n",
    "from scipy import stats as st\n",
    "import warnings\n",
    "warnings.filterwarnings(\"ignore\")"
   ]
  },
  {
   "cell_type": "code",
   "execution_count": 3,
   "id": "4c3cbeff",
   "metadata": {},
   "outputs": [],
   "source": [
    "# read the csv file\n",
    "try:\n",
    "    hypo = pd.read_csv('hypotheses_us.csv', sep=';')\n",
    "    orders = pd.read_csv('orders_us.csv')\n",
    "    visits = pd.read_csv('visits_us.csv')\n",
    "except:\n",
    "    hypo = pd.read_csv('/datasets/hypotheses_us.csv', sep=';')\n",
    "    orders = pd.read_csv('/datasets/orders_us.csv')\n",
    "    visits = pd.read_csv('/datasets/visits_us.csv')"
   ]
  },
  {
   "cell_type": "code",
   "execution_count": 4,
   "id": "60fa666b",
   "metadata": {},
   "outputs": [],
   "source": [
    "def data_info(data):\n",
    "    \"\"\"This function helps simplify reading multiple datasets.\n",
    "    \n",
    "    This function takes the dataset variable as input and \n",
    "    produces the general information about each dataset, \n",
    "    including description, duplicates and missing values.\"\"\"\n",
    "    print('General dataset information:')\n",
    "    print(data.info())\n",
    "    print()\n",
    "    print('First five rows:')\n",
    "    print(data.head())\n",
    "    print()\n",
    "    print('Description of the dataset:')\n",
    "    print(data.describe())\n",
    "    print()\n",
    "    print('This dataset has {} duplicates.'.format(data.duplicated().sum()))\n",
    "    print()\n",
    "    print('How many missing values does this data have?')\n",
    "    print(data.isna().sum())\n",
    "    print()\n",
    "    print('What is the percentage of the missing values?')\n",
    "    print(data.isna().sum() / len(data))"
   ]
  },
  {
   "cell_type": "markdown",
   "id": "76e5909c",
   "metadata": {},
   "source": [
    "## Introduction\n",
    "<a name=\"introduction\"></a>"
   ]
  },
  {
   "cell_type": "markdown",
   "id": "3e5107cc",
   "metadata": {},
   "source": [
    "Three datasets have been provided for A/B test analysis from an online store. The report will examine:\n",
    "1. A list of hypotheses to increase sales provided by marketing department for prioritisation.\n",
    "2. Visits and orders in the online store between August 1-31, 2019, for comparison of the cumulative revenue, average purchase size, and conversion rates between the Group A and Group B.\n",
    "3. The statistical significance test of the order data, both raw and filtered.\n",
    "\n",
    "Based on the test results and conclusions drawn in this report, we can make a decision to either continue the test or stop the test, and to see whether any group is leading over the other."
   ]
  },
  {
   "cell_type": "markdown",
   "id": "5fba2335",
   "metadata": {},
   "source": [
    "### Table of contents\n",
    "1. [Introduction](#introduction)\n",
    "2. [Prioritising Hypotheses](#hypo)\n",
    "3. [A/B Testing](#abtest)\n",
    "4. [Outliers and Surges](#outliers)\n",
    "5. [Statistical Significance Testing](#stats)\n",
    "5. [Conclusion](#conclusion)"
   ]
  },
  {
   "cell_type": "code",
   "execution_count": 5,
   "id": "4bc0c9d6",
   "metadata": {},
   "outputs": [
    {
     "name": "stdout",
     "output_type": "stream",
     "text": [
      "General dataset information:\n",
      "<class 'pandas.core.frame.DataFrame'>\n",
      "RangeIndex: 9 entries, 0 to 8\n",
      "Data columns (total 5 columns):\n",
      " #   Column      Non-Null Count  Dtype \n",
      "---  ------      --------------  ----- \n",
      " 0   Hypothesis  9 non-null      object\n",
      " 1   Reach       9 non-null      int64 \n",
      " 2   Impact      9 non-null      int64 \n",
      " 3   Confidence  9 non-null      int64 \n",
      " 4   Effort      9 non-null      int64 \n",
      "dtypes: int64(4), object(1)\n",
      "memory usage: 488.0+ bytes\n",
      "None\n",
      "\n",
      "First five rows:\n",
      "                                          Hypothesis  Reach  Impact  \\\n",
      "0  Add two new channels for attracting traffic. T...      3      10   \n",
      "1  Launch your own delivery service. This will sh...      2       5   \n",
      "2  Add product recommendation blocks to the store...      8       3   \n",
      "3  Change the category structure. This will incre...      8       3   \n",
      "4  Change the background color on the main page. ...      3       1   \n",
      "\n",
      "   Confidence  Effort  \n",
      "0           8       6  \n",
      "1           4      10  \n",
      "2           7       3  \n",
      "3           3       8  \n",
      "4           1       1  \n",
      "\n",
      "Description of the dataset:\n",
      "           Reach     Impact  Confidence     Effort\n",
      "count   9.000000   9.000000    9.000000   9.000000\n",
      "mean    4.777778   4.777778    5.555556   4.888889\n",
      "std     3.153481   3.192874    3.045944   2.803767\n",
      "min     1.000000   1.000000    1.000000   1.000000\n",
      "25%     3.000000   3.000000    3.000000   3.000000\n",
      "50%     3.000000   3.000000    7.000000   5.000000\n",
      "75%     8.000000   7.000000    8.000000   6.000000\n",
      "max    10.000000  10.000000    9.000000  10.000000\n",
      "\n",
      "This dataset has 0 duplicates.\n",
      "\n",
      "How many missing values does this data have?\n",
      "Hypothesis    0\n",
      "Reach         0\n",
      "Impact        0\n",
      "Confidence    0\n",
      "Effort        0\n",
      "dtype: int64\n",
      "\n",
      "What is the percentage of the missing values?\n",
      "Hypothesis    0.0\n",
      "Reach         0.0\n",
      "Impact        0.0\n",
      "Confidence    0.0\n",
      "Effort        0.0\n",
      "dtype: float64\n"
     ]
    }
   ],
   "source": [
    "data_info(hypo)"
   ]
  },
  {
   "cell_type": "code",
   "execution_count": 6,
   "id": "bf1a9b62",
   "metadata": {},
   "outputs": [
    {
     "name": "stdout",
     "output_type": "stream",
     "text": [
      "General dataset information:\n",
      "<class 'pandas.core.frame.DataFrame'>\n",
      "RangeIndex: 1197 entries, 0 to 1196\n",
      "Data columns (total 5 columns):\n",
      " #   Column         Non-Null Count  Dtype  \n",
      "---  ------         --------------  -----  \n",
      " 0   transactionId  1197 non-null   int64  \n",
      " 1   visitorId      1197 non-null   int64  \n",
      " 2   date           1197 non-null   object \n",
      " 3   revenue        1197 non-null   float64\n",
      " 4   group          1197 non-null   object \n",
      "dtypes: float64(1), int64(2), object(2)\n",
      "memory usage: 46.9+ KB\n",
      "None\n",
      "\n",
      "First five rows:\n",
      "   transactionId   visitorId        date  revenue group\n",
      "0     3667963787  3312258926  2019-08-15     30.4     B\n",
      "1     2804400009  3642806036  2019-08-15     15.2     B\n",
      "2     2961555356  4069496402  2019-08-15     10.2     A\n",
      "3     3797467345  1196621759  2019-08-15    155.1     B\n",
      "4     2282983706  2322279887  2019-08-15     40.5     B\n",
      "\n",
      "Description of the dataset:\n",
      "       transactionId     visitorId       revenue\n",
      "count   1.197000e+03  1.197000e+03   1197.000000\n",
      "mean    2.155621e+09  2.165960e+09    131.491646\n",
      "std     1.229085e+09  1.236014e+09    603.004729\n",
      "min     1.062393e+06  5.114589e+06      5.000000\n",
      "25%     1.166776e+09  1.111826e+09     20.800000\n",
      "50%     2.145194e+09  2.217985e+09     50.200000\n",
      "75%     3.237740e+09  3.177606e+09    130.400000\n",
      "max     4.293856e+09  4.283872e+09  19920.400000\n",
      "\n",
      "This dataset has 0 duplicates.\n",
      "\n",
      "How many missing values does this data have?\n",
      "transactionId    0\n",
      "visitorId        0\n",
      "date             0\n",
      "revenue          0\n",
      "group            0\n",
      "dtype: int64\n",
      "\n",
      "What is the percentage of the missing values?\n",
      "transactionId    0.0\n",
      "visitorId        0.0\n",
      "date             0.0\n",
      "revenue          0.0\n",
      "group            0.0\n",
      "dtype: float64\n"
     ]
    }
   ],
   "source": [
    "data_info(orders)"
   ]
  },
  {
   "cell_type": "code",
   "execution_count": 7,
   "id": "cd955f52",
   "metadata": {},
   "outputs": [
    {
     "name": "stdout",
     "output_type": "stream",
     "text": [
      "General dataset information:\n",
      "<class 'pandas.core.frame.DataFrame'>\n",
      "RangeIndex: 62 entries, 0 to 61\n",
      "Data columns (total 3 columns):\n",
      " #   Column  Non-Null Count  Dtype \n",
      "---  ------  --------------  ----- \n",
      " 0   date    62 non-null     object\n",
      " 1   group   62 non-null     object\n",
      " 2   visits  62 non-null     int64 \n",
      "dtypes: int64(1), object(2)\n",
      "memory usage: 1.6+ KB\n",
      "None\n",
      "\n",
      "First five rows:\n",
      "         date group  visits\n",
      "0  2019-08-01     A     719\n",
      "1  2019-08-02     A     619\n",
      "2  2019-08-03     A     507\n",
      "3  2019-08-04     A     717\n",
      "4  2019-08-05     A     756\n",
      "\n",
      "Description of the dataset:\n",
      "           visits\n",
      "count   62.000000\n",
      "mean   607.290323\n",
      "std    114.400560\n",
      "min    361.000000\n",
      "25%    534.000000\n",
      "50%    624.500000\n",
      "75%    710.500000\n",
      "max    770.000000\n",
      "\n",
      "This dataset has 0 duplicates.\n",
      "\n",
      "How many missing values does this data have?\n",
      "date      0\n",
      "group     0\n",
      "visits    0\n",
      "dtype: int64\n",
      "\n",
      "What is the percentage of the missing values?\n",
      "date      0.0\n",
      "group     0.0\n",
      "visits    0.0\n",
      "dtype: float64\n"
     ]
    }
   ],
   "source": [
    "data_info(visits)"
   ]
  },
  {
   "cell_type": "markdown",
   "id": "eecc6cb0",
   "metadata": {},
   "source": [
    "From the initial look at the datasets, we didn't find any missing values or duplicates. But some things can be done to optimise the data for analysis, such as changing the column names formatting and changing the data type."
   ]
  },
  {
   "cell_type": "markdown",
   "id": "690f15d9",
   "metadata": {},
   "source": [
    "### Data Preprocessing"
   ]
  },
  {
   "cell_type": "code",
   "execution_count": 8,
   "id": "4dc1590b",
   "metadata": {},
   "outputs": [],
   "source": [
    "hypo.columns = hypo.columns.str.lower()"
   ]
  },
  {
   "cell_type": "code",
   "execution_count": 9,
   "id": "576f0d87",
   "metadata": {},
   "outputs": [],
   "source": [
    "orders['date'] = pd.to_datetime(orders['date'], format='%Y-%m-%d')"
   ]
  },
  {
   "cell_type": "code",
   "execution_count": 10,
   "id": "aa4bc67c",
   "metadata": {},
   "outputs": [],
   "source": [
    "visits['date'] = pd.to_datetime(visits['date'], format='%Y-%m-%d')\n",
    "visits['visits'] = visits['visits'].astype('int')"
   ]
  },
  {
   "cell_type": "code",
   "execution_count": 11,
   "id": "e4a18ef3",
   "metadata": {},
   "outputs": [
    {
     "data": {
      "text/plain": [
       "B    640\n",
       "A    557\n",
       "Name: group, dtype: int64"
      ]
     },
     "execution_count": 11,
     "metadata": {},
     "output_type": "execute_result"
    }
   ],
   "source": [
    "orders['group'].value_counts()"
   ]
  },
  {
   "cell_type": "code",
   "execution_count": 12,
   "id": "85c43085",
   "metadata": {},
   "outputs": [
    {
     "name": "stdout",
     "output_type": "stream",
     "text": [
      "Number of unique users in the data: 1031\n",
      "Number of unique users in group A: 503\n",
      "Number of unique users in group B: 586\n",
      "Total of users in both groups: 1089\n"
     ]
    }
   ],
   "source": [
    "print('Number of unique users in the data:', orders['visitorId'].nunique())\n",
    "print('Number of unique users in group A:', orders[orders['group'] == 'A']['visitorId'].nunique())\n",
    "print('Number of unique users in group B:', orders[orders['group'] == 'B']['visitorId'].nunique())\n",
    "print('Total of users in both groups:', orders[orders['group'] == 'A']['visitorId'].nunique() + orders[orders['group'] == 'B']['visitorId'].nunique())"
   ]
  },
  {
   "cell_type": "markdown",
   "id": "c2861fad",
   "metadata": {},
   "source": [
    "There are 640 entries for group B, and 557 for A group. However, when we look at how many unique visitorId in each group and compare it with total visitorId, we can notice that the sum of both groups is larger than the total unique visitorId number. This means there are users who mistakenly being put in both groups, before doing anything about it, we will check how many of them are there."
   ]
  },
  {
   "cell_type": "code",
   "execution_count": 13,
   "id": "341c4fde",
   "metadata": {},
   "outputs": [
    {
     "name": "stdout",
     "output_type": "stream",
     "text": [
      "Number of users belonging to both groups is 58\n"
     ]
    }
   ],
   "source": [
    "usersA = orders[orders['group'] =='A']['visitorId'].unique()\n",
    "usersB = orders[orders['group'] =='B']['visitorId'].unique()\n",
    "usersAB = np.intersect1d(usersA, usersB)\n",
    "print('Number of users belonging to both groups is', len(usersAB))"
   ]
  },
  {
   "cell_type": "code",
   "execution_count": 14,
   "id": "a916ce45",
   "metadata": {},
   "outputs": [
    {
     "data": {
      "text/plain": [
       "0.15121136173767752"
      ]
     },
     "execution_count": 14,
     "metadata": {},
     "output_type": "execute_result"
    }
   ],
   "source": [
    "len(orders[orders['visitorId'].isin(usersAB)]) / len(orders['visitorId'])"
   ]
  },
  {
   "cell_type": "markdown",
   "id": "64a90616",
   "metadata": {},
   "source": [
    "There are 58 users that actually show up in both A and B groups, accounting to 15% of the total data. It's quite a big percentage but we need to filter them to avoid skewed analysis."
   ]
  },
  {
   "cell_type": "code",
   "execution_count": 15,
   "id": "dc633841",
   "metadata": {},
   "outputs": [
    {
     "data": {
      "text/plain": [
       "B    548\n",
       "A    468\n",
       "Name: group, dtype: int64"
      ]
     },
     "execution_count": 15,
     "metadata": {},
     "output_type": "execute_result"
    }
   ],
   "source": [
    "orders = orders[~orders['visitorId'].isin(usersAB)]\n",
    "orders['group'].value_counts()"
   ]
  },
  {
   "cell_type": "markdown",
   "id": "b424fc73",
   "metadata": {},
   "source": [
    "In this section, we have imported, examined and preprocessed the datasets. We changed the data types in the data to the correct one, such as integer and datetime, and changed the column to lowercase. We also removed the rows where users are being put in both group A and group B. The resulting dataset contains 468 users in group A and 548 users in group B. We might need to remove outliers and surges after further analysis."
   ]
  },
  {
   "cell_type": "markdown",
   "id": "332f870c",
   "metadata": {},
   "source": [
    "## Prioritising Hypotheses\n",
    "<a name=\"hypo\"></a>"
   ]
  },
  {
   "cell_type": "markdown",
   "id": "bed0abad",
   "metadata": {},
   "source": [
    "For prioritising the 9 proposed hypotheses, we will use ICE (Impact, Confidence and Effort parameters) and RICE (Reach, Impact, Confidence and Effort parameters) formula."
   ]
  },
  {
   "cell_type": "code",
   "execution_count": 16,
   "id": "a65da310",
   "metadata": {},
   "outputs": [],
   "source": [
    "pd.set_option('display.width', 1000)"
   ]
  },
  {
   "cell_type": "code",
   "execution_count": 17,
   "id": "b1cf342b",
   "metadata": {},
   "outputs": [],
   "source": [
    "hypo['ice'] = (hypo['impact'] * hypo['confidence']) / hypo['effort']"
   ]
  },
  {
   "cell_type": "code",
   "execution_count": 18,
   "id": "74523b6e",
   "metadata": {
    "scrolled": false
   },
   "outputs": [
    {
     "data": {
      "text/html": [
       "<div>\n",
       "<style scoped>\n",
       "    .dataframe tbody tr th:only-of-type {\n",
       "        vertical-align: middle;\n",
       "    }\n",
       "\n",
       "    .dataframe tbody tr th {\n",
       "        vertical-align: top;\n",
       "    }\n",
       "\n",
       "    .dataframe thead th {\n",
       "        text-align: right;\n",
       "    }\n",
       "</style>\n",
       "<table border=\"1\" class=\"dataframe\">\n",
       "  <thead>\n",
       "    <tr style=\"text-align: right;\">\n",
       "      <th></th>\n",
       "      <th>hypothesis</th>\n",
       "      <th>ice</th>\n",
       "    </tr>\n",
       "  </thead>\n",
       "  <tbody>\n",
       "    <tr>\n",
       "      <th>8</th>\n",
       "      <td>Launch a promotion that gives users discounts ...</td>\n",
       "      <td>16.200000</td>\n",
       "    </tr>\n",
       "    <tr>\n",
       "      <th>0</th>\n",
       "      <td>Add two new channels for attracting traffic. T...</td>\n",
       "      <td>13.333333</td>\n",
       "    </tr>\n",
       "    <tr>\n",
       "      <th>7</th>\n",
       "      <td>Add a subscription form to all the main pages....</td>\n",
       "      <td>11.200000</td>\n",
       "    </tr>\n",
       "    <tr>\n",
       "      <th>6</th>\n",
       "      <td>Show banners with current offers and sales on ...</td>\n",
       "      <td>8.000000</td>\n",
       "    </tr>\n",
       "    <tr>\n",
       "      <th>2</th>\n",
       "      <td>Add product recommendation blocks to the store...</td>\n",
       "      <td>7.000000</td>\n",
       "    </tr>\n",
       "    <tr>\n",
       "      <th>1</th>\n",
       "      <td>Launch your own delivery service. This will sh...</td>\n",
       "      <td>2.000000</td>\n",
       "    </tr>\n",
       "    <tr>\n",
       "      <th>5</th>\n",
       "      <td>Add a customer review page. This will increase...</td>\n",
       "      <td>1.333333</td>\n",
       "    </tr>\n",
       "    <tr>\n",
       "      <th>3</th>\n",
       "      <td>Change the category structure. This will incre...</td>\n",
       "      <td>1.125000</td>\n",
       "    </tr>\n",
       "    <tr>\n",
       "      <th>4</th>\n",
       "      <td>Change the background color on the main page. ...</td>\n",
       "      <td>1.000000</td>\n",
       "    </tr>\n",
       "  </tbody>\n",
       "</table>\n",
       "</div>"
      ],
      "text/plain": [
       "                                          hypothesis        ice\n",
       "8  Launch a promotion that gives users discounts ...  16.200000\n",
       "0  Add two new channels for attracting traffic. T...  13.333333\n",
       "7  Add a subscription form to all the main pages....  11.200000\n",
       "6  Show banners with current offers and sales on ...   8.000000\n",
       "2  Add product recommendation blocks to the store...   7.000000\n",
       "1  Launch your own delivery service. This will sh...   2.000000\n",
       "5  Add a customer review page. This will increase...   1.333333\n",
       "3  Change the category structure. This will incre...   1.125000\n",
       "4  Change the background color on the main page. ...   1.000000"
      ]
     },
     "execution_count": 18,
     "metadata": {},
     "output_type": "execute_result"
    }
   ],
   "source": [
    "hypo[['hypothesis', 'ice']].sort_values('ice', ascending=False)"
   ]
  },
  {
   "cell_type": "markdown",
   "id": "b9d3064f",
   "metadata": {},
   "source": [
    "Top 3 hypotheses calculated with ICE formula are the **9th**, **1st** and **8th** hypotheses. "
   ]
  },
  {
   "cell_type": "code",
   "execution_count": 19,
   "id": "7022ed4e",
   "metadata": {},
   "outputs": [],
   "source": [
    "hypo['rice'] = (hypo['reach'] * \n",
    "                hypo['impact'] *\n",
    "                hypo['confidence']) / hypo['effort']"
   ]
  },
  {
   "cell_type": "code",
   "execution_count": 20,
   "id": "dd704522",
   "metadata": {},
   "outputs": [
    {
     "data": {
      "text/html": [
       "<div>\n",
       "<style scoped>\n",
       "    .dataframe tbody tr th:only-of-type {\n",
       "        vertical-align: middle;\n",
       "    }\n",
       "\n",
       "    .dataframe tbody tr th {\n",
       "        vertical-align: top;\n",
       "    }\n",
       "\n",
       "    .dataframe thead th {\n",
       "        text-align: right;\n",
       "    }\n",
       "</style>\n",
       "<table border=\"1\" class=\"dataframe\">\n",
       "  <thead>\n",
       "    <tr style=\"text-align: right;\">\n",
       "      <th></th>\n",
       "      <th>hypothesis</th>\n",
       "      <th>rice</th>\n",
       "    </tr>\n",
       "  </thead>\n",
       "  <tbody>\n",
       "    <tr>\n",
       "      <th>7</th>\n",
       "      <td>Add a subscription form to all the main pages....</td>\n",
       "      <td>112.0</td>\n",
       "    </tr>\n",
       "    <tr>\n",
       "      <th>2</th>\n",
       "      <td>Add product recommendation blocks to the store...</td>\n",
       "      <td>56.0</td>\n",
       "    </tr>\n",
       "    <tr>\n",
       "      <th>0</th>\n",
       "      <td>Add two new channels for attracting traffic. T...</td>\n",
       "      <td>40.0</td>\n",
       "    </tr>\n",
       "    <tr>\n",
       "      <th>6</th>\n",
       "      <td>Show banners with current offers and sales on ...</td>\n",
       "      <td>40.0</td>\n",
       "    </tr>\n",
       "    <tr>\n",
       "      <th>8</th>\n",
       "      <td>Launch a promotion that gives users discounts ...</td>\n",
       "      <td>16.2</td>\n",
       "    </tr>\n",
       "    <tr>\n",
       "      <th>3</th>\n",
       "      <td>Change the category structure. This will incre...</td>\n",
       "      <td>9.0</td>\n",
       "    </tr>\n",
       "    <tr>\n",
       "      <th>1</th>\n",
       "      <td>Launch your own delivery service. This will sh...</td>\n",
       "      <td>4.0</td>\n",
       "    </tr>\n",
       "    <tr>\n",
       "      <th>5</th>\n",
       "      <td>Add a customer review page. This will increase...</td>\n",
       "      <td>4.0</td>\n",
       "    </tr>\n",
       "    <tr>\n",
       "      <th>4</th>\n",
       "      <td>Change the background color on the main page. ...</td>\n",
       "      <td>3.0</td>\n",
       "    </tr>\n",
       "  </tbody>\n",
       "</table>\n",
       "</div>"
      ],
      "text/plain": [
       "                                          hypothesis   rice\n",
       "7  Add a subscription form to all the main pages....  112.0\n",
       "2  Add product recommendation blocks to the store...   56.0\n",
       "0  Add two new channels for attracting traffic. T...   40.0\n",
       "6  Show banners with current offers and sales on ...   40.0\n",
       "8  Launch a promotion that gives users discounts ...   16.2\n",
       "3  Change the category structure. This will incre...    9.0\n",
       "1  Launch your own delivery service. This will sh...    4.0\n",
       "5  Add a customer review page. This will increase...    4.0\n",
       "4  Change the background color on the main page. ...    3.0"
      ]
     },
     "execution_count": 20,
     "metadata": {},
     "output_type": "execute_result"
    }
   ],
   "source": [
    "hypo[['hypothesis', 'rice']].sort_values('rice', ascending=False)"
   ]
  },
  {
   "cell_type": "markdown",
   "id": "b6612fc7",
   "metadata": {},
   "source": [
    "Top 3 hypotheses calculated with RICE formula are the **8th**, **3rd** and **1st** hypotheses. "
   ]
  },
  {
   "cell_type": "code",
   "execution_count": 44,
   "id": "b9c100ac",
   "metadata": {},
   "outputs": [
    {
     "data": {
      "image/png": "[encoded data removed]",
      "text/plain": [
       "<Figure size 720x360 with 1 Axes>"
      ]
     },
     "metadata": {
      "needs_background": "light"
     },
     "output_type": "display_data"
    }
   ],
   "source": [
    "x = hypo['ice']\n",
    "y = hypo['rice']\n",
    "thesis = hypo.index\n",
    "\n",
    "fig, ax = plt.subplots(figsize=(10, 5))\n",
    "ax.scatter(x, y)\n",
    "ax.grid()\n",
    "ax.set_title('ICE and RICE scores of Each Hypotheses')\n",
    "ax.set_xlabel('ICE score')\n",
    "ax.set_ylabel('RICE score')\n",
    "\n",
    "for i, txt in enumerate(thesis):\n",
    "    ax.annotate(txt, (x[i], y[i]), xytext=(10, 2), textcoords='offset points')\n",
    "    plt.scatter(x, y, color='red')"
   ]
  },
  {
   "cell_type": "markdown",
   "id": "9afcf3ed",
   "metadata": {},
   "source": [
    "On the scatterplot, the hypotheses that is shown on the most top and right, would be the one that will ensure maximum growth of key business metrics. We can see that 8th hypotheses score highest on RICE and 9th scores highest on ICE, while the 3rd and 1st are scoring second on RICE and ICE, respectively. The 7th hypotheses is in the top 5 for both ICE and RICE."
   ]
  },
  {
   "cell_type": "markdown",
   "id": "1a279f30",
   "metadata": {},
   "source": [
    "#### Conclusion"
   ]
  },
  {
   "cell_type": "markdown",
   "id": "ee18a2ab",
   "metadata": {},
   "source": [
    "- The 8th hypotheses scores the highest on RICE, and 3rd on ICE - adding a subscription button to main pages in fact will reach a lot of customers, and to add them will only require the developers to change the main pages. \n",
    "- The 1st hypotheses scores 2nd on ICE and 3rd on RICE - adding new channels may bring more traffic, but it would also be cost intensive. \n",
    "- The 9th hypotheses scores high on ICE but dropped to 5th position on RICE as the reach would be really low, as a customer will only have birthday once a year.\n",
    "\n",
    "Therefore for this project, the 8th hypotheses should be prioritised."
   ]
  },
  {
   "cell_type": "markdown",
   "id": "262aa4c3",
   "metadata": {},
   "source": [
    "## A/B Testing\n",
    "<a name=\"abtest\"></a>"
   ]
  },
  {
   "cell_type": "markdown",
   "id": "56a59325",
   "metadata": {},
   "source": [
    "To prevent the peeking problem, we will analyse the graphs of cumulative revenue and purchase size of the visit and order data from August 1 to August 31, 2019."
   ]
  },
  {
   "cell_type": "code",
   "execution_count": 45,
   "id": "ab3415c8",
   "metadata": {},
   "outputs": [],
   "source": [
    "datesGroups = orders[['date', 'group']].drop_duplicates()"
   ]
  },
  {
   "cell_type": "code",
   "execution_count": 46,
   "id": "637b116c",
   "metadata": {},
   "outputs": [],
   "source": [
    "ordersAggregated = datesGroups.apply(\n",
    "    lambda x: orders[np.logical_and(orders['date'] <= x['date'], orders[\n",
    "        'group'] == x['group'])].agg({\n",
    "            'date': 'max',\n",
    "            'group': 'max',\n",
    "            'transactionId': pd.Series.nunique,\n",
    "            'visitorId': pd.Series.nunique,\n",
    "            'revenue': 'sum'\n",
    "        }),\n",
    "    axis=1).sort_values(by=['date', 'group'])"
   ]
  },
  {
   "cell_type": "code",
   "execution_count": 47,
   "id": "5e8ff2c1",
   "metadata": {},
   "outputs": [],
   "source": [
    "visitorsAggregated = datesGroups.apply(\n",
    "    lambda x: visits[np.logical_and(visits['date'] <= x['date'], visits[\n",
    "        'group'] == x['group'])].agg({\n",
    "            'date': 'max',\n",
    "            'group': 'max',\n",
    "            'visits': 'sum'\n",
    "        }),\n",
    "    axis=1).sort_values(by=['date', 'group'])"
   ]
  },
  {
   "cell_type": "markdown",
   "id": "bf642ee9",
   "metadata": {},
   "source": [
    "### Cumulative Revenue of Each Group"
   ]
  },
  {
   "cell_type": "code",
   "execution_count": 48,
   "id": "edbb0b55",
   "metadata": {},
   "outputs": [],
   "source": [
    "cumulativeData = ordersAggregated.merge(visitorsAggregated, left_on=['date', 'group'], right_on=['date', 'group'])\n",
    "cumulativeData.columns = ['date', 'group', 'orders', 'buyers', 'revenue', 'visitors']"
   ]
  },
  {
   "cell_type": "code",
   "execution_count": 49,
   "id": "df3e9b28",
   "metadata": {},
   "outputs": [],
   "source": [
    "cumulativeRevenueA = cumulativeData[cumulativeData['group']=='A'][['date','revenue', 'orders']]\n",
    "cumulativeRevenueB = cumulativeData[cumulativeData['group']=='B'][['date','revenue', 'orders']]"
   ]
  },
  {
   "cell_type": "code",
   "execution_count": 50,
   "id": "7baf35d6",
   "metadata": {
    "scrolled": false
   },
   "outputs": [
    {
     "data": {
      "image/png": "[encoded data removed]",
      "text/plain": [
       "<Figure size 720x360 with 1 Axes>"
      ]
     },
     "metadata": {
      "needs_background": "light"
     },
     "output_type": "display_data"
    }
   ],
   "source": [
    "plt.figure(figsize=(10,5))\n",
    "plt.grid()\n",
    "\n",
    "plt.plot(cumulativeRevenueA['date'], cumulativeRevenueA['revenue'], label='A')\n",
    "plt.plot(cumulativeRevenueB['date'], cumulativeRevenueB['revenue'], label='B')\n",
    "\n",
    "plt.title('Cumulative Revenue of Each Group')\n",
    "#plt.axis(['2019-08-01', '2019-08-31', -0.1, 0.5])\n",
    "plt.xlabel('date')\n",
    "plt.ylabel('revenue')\n",
    "plt.xticks(rotation=45)\n",
    "plt.legend();"
   ]
  },
  {
   "cell_type": "markdown",
   "id": "6b92d6b2",
   "metadata": {},
   "source": [
    "The graph shows the cumulative revenue for group A and B. Until around August 18, they were increasing about the same rate, afterwards group B's revenue increased around \\\\$20000 and maintain the lead for the rest of the month. There might be a large purchase happening on that day in group B that caused the sudden hike, as the increase rate stabilises and matches group A again. We will address the outlier further below."
   ]
  },
  {
   "cell_type": "markdown",
   "id": "477c97b6",
   "metadata": {},
   "source": [
    "### Average Purchase Size of Each Group"
   ]
  },
  {
   "cell_type": "code",
   "execution_count": 51,
   "id": "42ac51ce",
   "metadata": {
    "scrolled": false
   },
   "outputs": [
    {
     "data": {
      "image/png": "[encoded data removed]",
      "text/plain": [
       "<Figure size 720x360 with 1 Axes>"
      ]
     },
     "metadata": {
      "needs_background": "light"
     },
     "output_type": "display_data"
    }
   ],
   "source": [
    "plt.figure(figsize=(10,5))\n",
    "plt.grid()\n",
    "\n",
    "plt.plot(cumulativeRevenueA['date'], cumulativeRevenueA['revenue']/cumulativeRevenueA['orders'], label='A')\n",
    "plt.plot(cumulativeRevenueB['date'], cumulativeRevenueB['revenue']/cumulativeRevenueB['orders'], label='B')\n",
    "\n",
    "plt.title('Average Purchase Size of Each Group')\n",
    "plt.xlabel('date')\n",
    "plt.ylabel('orders')\n",
    "plt.xticks(rotation=45)\n",
    "plt.legend();"
   ]
  },
  {
   "cell_type": "markdown",
   "id": "fc22de5d",
   "metadata": {},
   "source": [
    "At the beginning of the month, both groups have different fluctuations. Slow decrease for group A until August 6 before increasing until August 13, afterwards the order stabilises between 100-120 orders until the end of the month.\n",
    "While group B saw an increase on the first week, until it stabilises up to the sudden spike on August 18, before decreasing slowly right after from 160 to 140. "
   ]
  },
  {
   "cell_type": "markdown",
   "id": "9a80cb32",
   "metadata": {},
   "source": [
    "#### Relative Difference of Average Purchase Size"
   ]
  },
  {
   "cell_type": "code",
   "execution_count": 52,
   "id": "d1e2f237",
   "metadata": {},
   "outputs": [],
   "source": [
    "mergedCumulativeRevenue = cumulativeRevenueA.merge(cumulativeRevenueB, left_on='date', right_on='date', how='left', suffixes=['A', 'B'])"
   ]
  },
  {
   "cell_type": "code",
   "execution_count": 53,
   "id": "660fd6e5",
   "metadata": {},
   "outputs": [
    {
     "data": {
      "image/png": "[encoded data removed]",
      "text/plain": [
       "<Figure size 720x360 with 1 Axes>"
      ]
     },
     "metadata": {
      "needs_background": "light"
     },
     "output_type": "display_data"
    }
   ],
   "source": [
    "plt.figure(figsize=(10,5))\n",
    "plt.grid()\n",
    "\n",
    "plt.plot(mergedCumulativeRevenue['date'], (mergedCumulativeRevenue['revenueB']/mergedCumulativeRevenue['ordersB'])/(mergedCumulativeRevenue['revenueA']/mergedCumulativeRevenue['ordersA'])-1)\n",
    "\n",
    "plt.axhline(y=0, color='black', linestyle='--')\n",
    "\n",
    "plt.title(\"Relative Difference of Both Groups' Average Purchase Size\")\n",
    "plt.xlabel('date')\n",
    "plt.ylabel('orders')\n",
    "plt.xticks(rotation=45);"
   ]
  },
  {
   "cell_type": "markdown",
   "id": "d2a74682",
   "metadata": {},
   "source": [
    "In the relative difference graph, most of the time group B is leading over group A, except the first couple of days and on August 13. The suspected outlier influences the relative difference as well, causing a large spike above 0.4 before decreasing towards the end of the month. The decrease suggests that if we remove the outliers, we might see some relative losses after August 18."
   ]
  },
  {
   "cell_type": "markdown",
   "id": "ec0812bd",
   "metadata": {},
   "source": [
    "### Conversion"
   ]
  },
  {
   "cell_type": "markdown",
   "id": "c2e30e80",
   "metadata": {},
   "source": [
    "#### Daily Conversion"
   ]
  },
  {
   "cell_type": "code",
   "execution_count": 54,
   "id": "76e16581",
   "metadata": {},
   "outputs": [],
   "source": [
    "order_grouped = orders.groupby(['group', 'date']).agg({'transactionId': 'count'}).reset_index()\n",
    "order_grouped.columns=['group', 'date', 'orders']\n",
    "conversion = order_grouped.merge(visits, on=['group', 'date'])\n",
    "conversion['conversion'] = conversion['orders'] / conversion['visits']"
   ]
  },
  {
   "cell_type": "code",
   "execution_count": 55,
   "id": "acc57c4f",
   "metadata": {},
   "outputs": [],
   "source": [
    "conversionA = conversion[conversion['group'] == 'A']\n",
    "conversionB = conversion[conversion['group'] == 'B']"
   ]
  },
  {
   "cell_type": "code",
   "execution_count": 56,
   "id": "7a846297",
   "metadata": {},
   "outputs": [
    {
     "data": {
      "image/png": "[encoded data removed]",
      "text/plain": [
       "<Figure size 720x360 with 1 Axes>"
      ]
     },
     "metadata": {
      "needs_background": "light"
     },
     "output_type": "display_data"
    }
   ],
   "source": [
    "plt.figure(figsize=(10,5))\n",
    "plt.grid()\n",
    "\n",
    "plt.plot(conversionA['date'], conversionA['conversion'], label='A')\n",
    "plt.plot(conversionB['date'], conversionB['conversion'], label='B')\n",
    "\n",
    "plt.title('Daily Conversion Rate of Each Group')\n",
    "plt.xlabel('date')\n",
    "plt.ylabel('conversion rate')\n",
    "plt.xticks(rotation=45)\n",
    "plt.legend();"
   ]
  },
  {
   "cell_type": "markdown",
   "id": "86f6133f",
   "metadata": {},
   "source": [
    "From the line graph, we cannot see any obvious pattern as both groups fluctuate strongly throughout the month. Group B has the lowest conversion rate (1%) on August 18 and highest conversion rate (6%) on August 10, 2019."
   ]
  },
  {
   "cell_type": "code",
   "execution_count": 57,
   "id": "776eebbb",
   "metadata": {},
   "outputs": [],
   "source": [
    "merged_conversion = conversionA[['date','conversion']].merge(conversionB[['date','conversion']], left_on='date', right_on='date', how='left', suffixes=['A', 'B'])"
   ]
  },
  {
   "cell_type": "code",
   "execution_count": 58,
   "id": "3e314b4f",
   "metadata": {},
   "outputs": [
    {
     "data": {
      "image/png": "[encoded data removed]",
      "text/plain": [
       "<Figure size 720x360 with 1 Axes>"
      ]
     },
     "metadata": {
      "needs_background": "light"
     },
     "output_type": "display_data"
    }
   ],
   "source": [
    "plt.figure(figsize=(10,5))\n",
    "plt.grid()\n",
    "\n",
    "plt.plot(merged_conversion['date'], merged_conversion['conversionB'] / merged_conversion['conversionA']-1)\n",
    "\n",
    "plt.axhline(y=0, color='black', linestyle='--')\n",
    "#plt.axis(['2019-08-01', '2019-08-31', -0.6, 0.6])\n",
    "\n",
    "plt.title(\"Relative Difference of Group B's Daily Conversion Rate to Group A\")\n",
    "plt.xlabel('date')\n",
    "plt.ylabel('conversion rate')\n",
    "plt.xticks(rotation=45);"
   ]
  },
  {
   "cell_type": "markdown",
   "id": "f1fc86c3",
   "metadata": {},
   "source": [
    "On the graph above, we can see that group B mostly has relative gains over group A, although it's not stable throughout the month. We can inspect further on the cumulative conversion rate below. "
   ]
  },
  {
   "cell_type": "code",
   "execution_count": 59,
   "id": "bf480c53",
   "metadata": {},
   "outputs": [],
   "source": [
    "cumulativeData['conversion'] = cumulativeData['orders'] / cumulativeData['visitors']\n",
    "cumulativeDataA = cumulativeData[cumulativeData['group']=='A']\n",
    "cumulativeDataB = cumulativeData[cumulativeData['group']=='B']"
   ]
  },
  {
   "cell_type": "code",
   "execution_count": 60,
   "id": "87816866",
   "metadata": {},
   "outputs": [
    {
     "data": {
      "image/png": "[encoded data removed]",
      "text/plain": [
       "<Figure size 720x360 with 1 Axes>"
      ]
     },
     "metadata": {
      "needs_background": "light"
     },
     "output_type": "display_data"
    }
   ],
   "source": [
    "plt.figure(figsize=(10,5))\n",
    "plt.grid()\n",
    "\n",
    "plt.plot(cumulativeDataA['date'], cumulativeDataA['conversion'], label='A')\n",
    "plt.plot(cumulativeDataB['date'], cumulativeDataB['conversion'], label='B')\n",
    "\n",
    "plt.title(\"Cumulative Conversion Rate of Each Group\")\n",
    "plt.xlabel('date')\n",
    "plt.ylabel('conversion rate')\n",
    "plt.xticks(rotation=45)\n",
    "plt.legend();"
   ]
  },
  {
   "cell_type": "markdown",
   "id": "284a45bc",
   "metadata": {},
   "source": [
    "On the cumulative conversion graph, at the beginning group A has higher conversion rate but continues to drop throughout the month. Meanwhile, group B starts pretty low, saw an increase, then stabilises. It is interesting to see that the pattern of both groups are quite similar, they both have a spike on conversion rate around August 2-3 then the spike dropped on the 4th and stabilised from August 9 onwards."
   ]
  },
  {
   "cell_type": "code",
   "execution_count": 61,
   "id": "5a76ae30",
   "metadata": {},
   "outputs": [],
   "source": [
    "mergedCumulativeConversions = cumulativeDataA[['date','conversion']].merge(cumulativeDataB[['date','conversion']], left_on='date', right_on='date', how='left', suffixes=['A', 'B'])"
   ]
  },
  {
   "cell_type": "code",
   "execution_count": 62,
   "id": "a7649332",
   "metadata": {},
   "outputs": [
    {
     "data": {
      "image/png": "[encoded data removed]",
      "text/plain": [
       "<Figure size 720x360 with 1 Axes>"
      ]
     },
     "metadata": {
      "needs_background": "light"
     },
     "output_type": "display_data"
    }
   ],
   "source": [
    "plt.figure(figsize=(10,5))\n",
    "plt.grid()\n",
    "\n",
    "plt.plot(mergedCumulativeConversions['date'], mergedCumulativeConversions['conversionB']/mergedCumulativeConversions['conversionA']-1, label=\"Relative gain in conversion in group B as opposed to group A\")\n",
    "\n",
    "plt.axhline(y=0, color='black', linestyle='--')\n",
    "plt.axhline(y=-0.1, color='grey', linestyle='--')\n",
    "\n",
    "plt.title(\"Relative Difference of Group B's Cumulative Conversion Rate to Group A\")\n",
    "plt.xlabel('date')\n",
    "plt.ylabel('conversion rate')\n",
    "plt.xticks(rotation=45);"
   ]
  },
  {
   "cell_type": "markdown",
   "id": "e1d6f53c",
   "metadata": {},
   "source": [
    "In the relative difference graph, group B has relative gains over group A from August 6 onwards, despite starting pretty low, even the spike cannot give it enough gains to lead."
   ]
  },
  {
   "cell_type": "markdown",
   "id": "92f7cb1a",
   "metadata": {},
   "source": [
    "#### Conclusion"
   ]
  },
  {
   "cell_type": "markdown",
   "id": "4c565cee",
   "metadata": {},
   "source": [
    "In this section we have examined the difference in revenue, average purchase size and conversion rate between group A and B. We have found that:\n",
    "- group B is leading in cumulative revenue and purchase size over group A, although it might be caused by an outlier, that we should inspect further.\n",
    "- group B is leading in conversion rate over group A, despite group A's initial lead."
   ]
  },
  {
   "cell_type": "markdown",
   "id": "12796e49",
   "metadata": {},
   "source": [
    "## Outliers and Surges\n",
    "<a name=\"outliers\"></a>"
   ]
  },
  {
   "cell_type": "markdown",
   "id": "1326fc2c",
   "metadata": {},
   "source": [
    "### Revenue"
   ]
  },
  {
   "cell_type": "code",
   "execution_count": 63,
   "id": "65e7f316",
   "metadata": {},
   "outputs": [
    {
     "data": {
      "image/png": "[encoded data removed]",
      "text/plain": [
       "<Figure size 720x360 with 1 Axes>"
      ]
     },
     "metadata": {
      "needs_background": "light"
     },
     "output_type": "display_data"
    }
   ],
   "source": [
    "plt.figure(figsize=(10,5))\n",
    "plt.hist(orders['revenue'])\n",
    "plt.title('Distribution of Revenue Amount')\n",
    "plt.xlabel('Revenue')\n",
    "plt.ylabel('Frequency');"
   ]
  },
  {
   "cell_type": "markdown",
   "id": "7b13f26e",
   "metadata": {},
   "source": [
    "In the histogram above, we can't really see anything above \\\\$2500, which means they are most likely just outliers."
   ]
  },
  {
   "cell_type": "code",
   "execution_count": 64,
   "id": "f60e64bc",
   "metadata": {},
   "outputs": [
    {
     "data": {
      "image/png": "[encoded data removed]",
      "text/plain": [
       "<Figure size 720x360 with 1 Axes>"
      ]
     },
     "metadata": {
      "needs_background": "light"
     },
     "output_type": "display_data"
    }
   ],
   "source": [
    "x_values = pd.Series(range(0, len(orders['revenue'])))\n",
    "\n",
    "plt.figure(figsize=(10,5))\n",
    "\n",
    "plt.scatter(x_values, orders['revenue'], alpha=0.5) \n",
    "plt.title('Scatterplot of All Revenue Amount')\n",
    "plt.xlabel('Frequency')\n",
    "plt.ylabel('Revenue');"
   ]
  },
  {
   "cell_type": "code",
   "execution_count": 65,
   "id": "601692e6",
   "metadata": {},
   "outputs": [
    {
     "data": {
      "image/png": "[encoded data removed]",
      "text/plain": [
       "<Figure size 720x360 with 1 Axes>"
      ]
     },
     "metadata": {
      "needs_background": "light"
     },
     "output_type": "display_data"
    }
   ],
   "source": [
    "x_values = pd.Series(range(0, len(orders['revenue'])))\n",
    "\n",
    "plt.figure(figsize=(10,5))\n",
    "\n",
    "plt.scatter(x_values, orders['revenue'], alpha=0.3) \n",
    "plt.ylim(0, 2500)\n",
    "plt.title('Scatterplot of Lower Revenue Amount')\n",
    "plt.xlabel('Frequency')\n",
    "plt.ylabel('Revenue');"
   ]
  },
  {
   "cell_type": "markdown",
   "id": "eec3b572",
   "metadata": {},
   "source": [
    "On the first scatterplot, we can see a couple of dots above \\\\$2500 and another one at \\\\$20000. The rest are mostly under \\\\$1000. The second scatterplot shows that most of the revenue are concentrated below \\\\$500. We can see on the percentile how much revenue amount that mostly occurs. "
   ]
  },
  {
   "cell_type": "code",
   "execution_count": 66,
   "id": "b6afe438",
   "metadata": {},
   "outputs": [
    {
     "data": {
      "text/plain": [
       "array([280.8  , 414.275, 830.3  ])"
      ]
     },
     "execution_count": 66,
     "metadata": {},
     "output_type": "execute_result"
    }
   ],
   "source": [
    "np.percentile(orders['revenue'], [90, 95, 99])"
   ]
  },
  {
   "cell_type": "markdown",
   "id": "94447e67",
   "metadata": {},
   "source": [
    "Based on the percentile, 95% of the revenue are \\\\$414.275 and below, and 99\\% of the revenue are \\\\$830 and below."
   ]
  },
  {
   "cell_type": "markdown",
   "id": "5944196d",
   "metadata": {},
   "source": [
    "### Order Per User"
   ]
  },
  {
   "cell_type": "code",
   "execution_count": 67,
   "id": "eba076a6",
   "metadata": {},
   "outputs": [],
   "source": [
    "ordersByUsers = orders.groupby('visitorId', as_index=False).agg({\n",
    "    'transactionId': pd.Series.nunique,\n",
    "    'group':'max'})\n",
    "ordersByUsers.columns=['visitorId', 'orders', 'group']"
   ]
  },
  {
   "cell_type": "code",
   "execution_count": 68,
   "id": "1c8c0464",
   "metadata": {},
   "outputs": [
    {
     "name": "stdout",
     "output_type": "stream",
     "text": [
      "      visitorId  orders group\n",
      "908  3967698036       3     A\n",
      "55    249864742       3     B\n",
      "478  2108163459       3     A\n",
      "687  2988190573       3     A\n",
      "890  3908431265       3     A\n"
     ]
    }
   ],
   "source": [
    "print(ordersByUsers.sort_values(by='orders', ascending=False).head())"
   ]
  },
  {
   "cell_type": "code",
   "execution_count": 69,
   "id": "805dcdcc",
   "metadata": {},
   "outputs": [],
   "source": [
    "orderA = ordersByUsers[ordersByUsers['group'] == 'A']['orders']\n",
    "orderB = ordersByUsers[ordersByUsers['group'] == 'B']['orders']"
   ]
  },
  {
   "cell_type": "code",
   "execution_count": 70,
   "id": "be071ded",
   "metadata": {},
   "outputs": [
    {
     "data": {
      "image/png": "[encoded data removed]",
      "text/plain": [
       "<Figure size 720x360 with 1 Axes>"
      ]
     },
     "metadata": {
      "needs_background": "light"
     },
     "output_type": "display_data"
    }
   ],
   "source": [
    "plt.figure(figsize=(10, 5))\n",
    "\n",
    "x_values_A = pd.Series(range(0, len(ordersByUsers[ordersByUsers['group'] == 'A']['orders'])))\n",
    "x_values_B = pd.Series(range(0, len(ordersByUsers[ordersByUsers['group'] == 'B']['orders'])))\n",
    "\n",
    "plt.scatter(x_values_A, orderA, label='A', alpha=0.75)\n",
    "plt.scatter(x_values_B, orderB, label='B', alpha=0.5)\n",
    "\n",
    "plt.title('Scatterplot of Order Amount Per User')\n",
    "plt.ylabel('Order(s)')\n",
    "plt.xlabel('Frequency')\n",
    "plt.legend();"
   ]
  },
  {
   "cell_type": "code",
   "execution_count": 71,
   "id": "c8ff4c12",
   "metadata": {},
   "outputs": [
    {
     "data": {
      "text/plain": [
       "array([1., 2.])"
      ]
     },
     "execution_count": 71,
     "metadata": {},
     "output_type": "execute_result"
    }
   ],
   "source": [
    "np.percentile(ordersByUsers['orders'], [95, 99])"
   ]
  },
  {
   "cell_type": "markdown",
   "id": "fe91f5ec",
   "metadata": {},
   "source": [
    "Based on the scatterplot, most of the users are only making 1 order, the 2 orders are scarce and only 7 users make 3 orders. 5 of those 7 are from group A."
   ]
  },
  {
   "cell_type": "markdown",
   "id": "cb281f38",
   "metadata": {},
   "source": [
    "#### Conclusion"
   ]
  },
  {
   "cell_type": "markdown",
   "id": "4b7532e5",
   "metadata": {},
   "source": [
    "In this section we have analysed the orders data for outliers. We found some outliers in the revenue up to \\\\$20000, that might cause a skewed analysis. We also found that most users place 1 order costing below \\\\$830."
   ]
  },
  {
   "cell_type": "markdown",
   "id": "99bd67b3",
   "metadata": {},
   "source": [
    "## Test of Statistical Significance\n",
    "<a name=\"stats\"></a>"
   ]
  },
  {
   "cell_type": "markdown",
   "id": "4aea2042",
   "metadata": {},
   "source": [
    "On the next section, we will test if group A and B have the same conversion rates. \n",
    "\n",
    "1. Null and Alternative Hypotheses\n",
    "\n",
    "H0: The means of two statistical populations are equal. In this case it means that the conversion rates of group A is the same as group B.\n",
    "\n",
    "H1: The means of two statistical populations are not equal. In this case it means that the conversion rates of group A is not the same as group B.\n",
    "\n",
    "2. Criteria for a decision (alpha value)\n",
    "In behavioral science, the level of significance is typically set at 5% and we will choose this criteria as well. When the probability of obtaining a sample mean is less than 5% if the null hypothesis were true, then we reject the value stated in the null hypothesis.\n",
    "\n",
    "3. Calculate the test\n",
    "In order to test our hypotheses that the means of two statistical populations are equal based on samples taken from them, we will apply the Mann Whitney U test."
   ]
  },
  {
   "cell_type": "markdown",
   "id": "eb6fbf77",
   "metadata": {},
   "source": [
    "### Raw Data"
   ]
  },
  {
   "cell_type": "markdown",
   "id": "fded0b17",
   "metadata": {},
   "source": [
    "#### Conversion Rates Difference"
   ]
  },
  {
   "cell_type": "code",
   "execution_count": 72,
   "id": "03ea2d70",
   "metadata": {},
   "outputs": [],
   "source": [
    "ordersByUsersA = orders[orders['group']=='A'].groupby('visitorId', as_index=False).agg({'transactionId' : pd.Series.nunique})\n",
    "ordersByUsersA.columns = ['visitorId', 'orders']\n",
    "\n",
    "ordersByUsersB = orders[orders['group']=='B'].groupby('visitorId', as_index=False).agg({'transactionId' : pd.Series.nunique})\n",
    "ordersByUsersB.columns = ['visitorId', 'orders']"
   ]
  },
  {
   "cell_type": "code",
   "execution_count": 73,
   "id": "13e8b012",
   "metadata": {},
   "outputs": [],
   "source": [
    "sampleA = pd.concat([ordersByUsersA['orders'],pd.Series(0, index=np.arange(visits[visits['group']=='A']['visits'].sum() - len(ordersByUsersA['orders'])), name='orders')],axis=0)\n",
    "\n",
    "sampleB = pd.concat([ordersByUsersB['orders'],pd.Series(0, index=np.arange(visits[visits['group']=='B']['visits'].sum() - len(ordersByUsersB['orders'])), name='orders')],axis=0)"
   ]
  },
  {
   "cell_type": "code",
   "execution_count": 74,
   "id": "d24a82a9",
   "metadata": {},
   "outputs": [
    {
     "name": "stdout",
     "output_type": "stream",
     "text": [
      "0.55090%\n",
      "15.980%\n"
     ]
    }
   ],
   "source": [
    "print(\"{0:.5%}\".format(st.mannwhitneyu(sampleA, sampleB)[1], alternative='two-sided'))\n",
    "print(\"{0:.3%}\".format(sampleB.mean()/sampleA.mean()-1)) "
   ]
  },
  {
   "cell_type": "markdown",
   "id": "538b42c5",
   "metadata": {},
   "source": [
    "The p-value is smaller than the alpha (5%). Therefore we reject the null hypothesis. We can conclude that there is a difference in conversion rates between the two groups. The relative gains of group B is 13.8%."
   ]
  },
  {
   "cell_type": "markdown",
   "id": "a483d2d8",
   "metadata": {},
   "source": [
    "#### Average Purchase Size Difference"
   ]
  },
  {
   "cell_type": "markdown",
   "id": "ba2a1283",
   "metadata": {},
   "source": [
    "For the next section, we will see the average purchase size of each group.\n",
    "\n",
    "1. Null and Alternative Hypotheses\n",
    "\n",
    "H0: The means of two statistical populations are equal. In this case it means that the average purchase size of group A is the same as group B.\n",
    "\n",
    "H1: The means of two statistical populations are not equal. In this case it means that the average purchase size of group A is not the same as group B."
   ]
  },
  {
   "cell_type": "code",
   "execution_count": 75,
   "id": "0d9c2eff",
   "metadata": {},
   "outputs": [],
   "source": [
    "revenueA = orders[orders['group'] == 'A']['revenue']\n",
    "revenueB = orders[orders['group'] == 'B']['revenue']"
   ]
  },
  {
   "cell_type": "code",
   "execution_count": 76,
   "id": "43f0b9b8",
   "metadata": {},
   "outputs": [
    {
     "name": "stdout",
     "output_type": "stream",
     "text": [
      "43.11%\n",
      "27.83%\n"
     ]
    }
   ],
   "source": [
    "print(\"{0:.2%}\".format(st.mannwhitneyu(revenueA, revenueB)[1], alternative='two-sided'))\n",
    "print(\"{0:.2%}\".format(revenueB.mean() / revenueA.mean() - 1))"
   ]
  },
  {
   "cell_type": "markdown",
   "id": "306be004",
   "metadata": {},
   "source": [
    "The p-value is bigger than the alpha (5%). Therefore we retain the null hypothesis. We can conclude that there is no difference in average purchase size between the two groups. Although, we can see that the relative gains of group B is 25.1%. This might be caused by the outlier on the data, therefore on the next section we will filter the outlier."
   ]
  },
  {
   "cell_type": "markdown",
   "id": "c9df76de",
   "metadata": {},
   "source": [
    "### Filtered Data"
   ]
  },
  {
   "cell_type": "markdown",
   "id": "03b63e80",
   "metadata": {},
   "source": [
    "Based on the percentile calculation, the 99% of all revenue is \\\\$830 and below. We will use that number to filter out the outlier."
   ]
  },
  {
   "cell_type": "code",
   "execution_count": 77,
   "id": "20f61a9c",
   "metadata": {},
   "outputs": [
    {
     "data": {
      "text/plain": [
       "12"
      ]
     },
     "execution_count": 77,
     "metadata": {},
     "output_type": "execute_result"
    }
   ],
   "source": [
    "usersWithExpensiveOrders = orders[orders['revenue'] > 830]['visitorId']\n",
    "len(usersWithExpensiveOrders)"
   ]
  },
  {
   "cell_type": "markdown",
   "id": "637d7337",
   "metadata": {},
   "source": [
    "There are 18 transactions above \\\\$830 that account to 1% of all transactions."
   ]
  },
  {
   "cell_type": "markdown",
   "id": "55627921",
   "metadata": {},
   "source": [
    "#### Conversion Rates Difference"
   ]
  },
  {
   "cell_type": "code",
   "execution_count": 78,
   "id": "7c82d6e6",
   "metadata": {},
   "outputs": [],
   "source": [
    "filteredSampleA = pd.concat(\n",
    "    [ordersByUsersA[~ordersByUsersA['visitorId'].isin(usersWithExpensiveOrders)]['orders'], \n",
    "     pd.Series(0, index=np.arange(visits[visits['group'] == 'A']['visits'].sum() - len(ordersByUsersA['orders'])), name='orders')], \n",
    "    axis=0)\n",
    "\n",
    "filteredSampleB = pd.concat(\n",
    "    [ordersByUsersB[~ordersByUsersB['visitorId'].isin(usersWithExpensiveOrders)]['orders'], \n",
    "     pd.Series(0, index=np.arange(visits[visits['group'] == 'B']['visits'].sum() - len(ordersByUsersB['orders'])), name='orders')], \n",
    "    axis=0)"
   ]
  },
  {
   "cell_type": "code",
   "execution_count": 79,
   "id": "3ecdc014",
   "metadata": {},
   "outputs": [
    {
     "name": "stdout",
     "output_type": "stream",
     "text": [
      "0.436%\n",
      "16.65%\n"
     ]
    }
   ],
   "source": [
    "print(\"{0:.3%}\".format(st.mannwhitneyu(filteredSampleA, filteredSampleB)[1], alternative='two-sided'))\n",
    "print(\"{0:.2%}\".format(filteredSampleB.mean() / filteredSampleA.mean() - 1))"
   ]
  },
  {
   "cell_type": "markdown",
   "id": "2f017012",
   "metadata": {},
   "source": [
    "The p-value is smaller than the alpha (0.05). Therefore we reject the null hypothesis. We can conclude that there is a difference in conversion rates between the two filtered groups. The relative gains of filtered group B is 15%, which is similar to the raw data."
   ]
  },
  {
   "cell_type": "code",
   "execution_count": 80,
   "id": "fa5d3977",
   "metadata": {},
   "outputs": [],
   "source": [
    "filteredRevenueA = orders[(orders['group'] == 'A') & (~orders['visitorId'].isin(usersWithExpensiveOrders))]['revenue']\n",
    "filteredRevenueB = orders[(orders['group'] == 'B') & (~orders['visitorId'].isin(usersWithExpensiveOrders))]['revenue']"
   ]
  },
  {
   "cell_type": "code",
   "execution_count": 81,
   "id": "ffd7156b",
   "metadata": {},
   "outputs": [
    {
     "name": "stdout",
     "output_type": "stream",
     "text": [
      "49.42%\n",
      "-1.41%\n"
     ]
    }
   ],
   "source": [
    "print(\"{0:.2%}\".format(st.mannwhitneyu(filteredRevenueA, filteredRevenueB)[1], alternative='two-sided'))\n",
    "print(\"{0:.2%}\".format(filteredRevenueB.mean() / filteredRevenueA.mean()-1))"
   ]
  },
  {
   "cell_type": "markdown",
   "id": "7fe676a4",
   "metadata": {},
   "source": [
    "The p-value is bigger than the alpha (5%). Therefore we retain the null hypothesis. We can conclude that there is no difference in average purchase size between the two filtered groups. Although, now filtered group B is showing a slight relative loss of 1.1% over filtered group A."
   ]
  },
  {
   "cell_type": "markdown",
   "id": "f01ceb43",
   "metadata": {},
   "source": [
    "## Overall Conclusion\n",
    "<a name=\"conclusion\"></a>"
   ]
  },
  {
   "cell_type": "markdown",
   "id": "0c8d9d12",
   "metadata": {},
   "source": [
    "1. We have analysed three datasets from the online store, first is a list of hypotheses, the second is server log for online store visits and the third is transaction data from the online store orders.\n",
    "2. We have preprocessed the data by optimising it for analysis, changing the data types and finding error such as there are 58 users that is being put on both group A and B. This is a lot of users that we need to filter out from the datasets, around 15% of total transaction, therefore on the next A/B test we need to be more careful with how to group the users.\n",
    "3. We have prioritised the hypotheses using ICE and RICE formula. We found that the 9th hypotheses *\"Add a subscription form to all the main pages\"* is the most fitting for this project, as it will reach a lot of customers while not consuming a lot of resources and time.\n",
    "4. We have analysed the result of the A/B test, through raw and filtered data. We found that:\n",
    "- group B is leading on the conversion rates, both on raw and filtered data.\n",
    "- group B is initially leading on the average purchase size, although later we found that this was caused by some outliers in the data. After the data is filtered, group A is slightly leading over group B."
   ]
  }
 ],
 "metadata": {
  "ExecuteTimeLog": [
   {
    "duration": 1182,
    "start_time": "2021-11-08T18:15:35.845Z"
   },
   {
    "duration": 302,
    "start_time": "2021-11-08T18:15:37.029Z"
   },
   {
    "duration": 4,
    "start_time": "2021-11-08T18:15:37.334Z"
   },
   {
    "duration": 22,
    "start_time": "2021-11-08T18:15:37.340Z"
   },
   {
    "duration": 24,
    "start_time": "2021-11-08T18:15:37.364Z"
   },
   {
    "duration": 20,
    "start_time": "2021-11-08T18:15:37.390Z"
   },
   {
    "duration": 3,
    "start_time": "2021-11-08T18:15:37.412Z"
   },
   {
    "duration": 6,
    "start_time": "2021-11-08T18:15:37.418Z"
   },
   {
    "duration": 37,
    "start_time": "2021-11-08T18:15:37.426Z"
   },
   {
    "duration": 8,
    "start_time": "2021-11-08T18:15:37.466Z"
   },
   {
    "duration": 14,
    "start_time": "2021-11-08T18:15:37.475Z"
   },
   {
    "duration": 6,
    "start_time": "2021-11-08T18:15:37.491Z"
   },
   {
    "duration": 9,
    "start_time": "2021-11-08T18:15:37.499Z"
   },
   {
    "duration": 9,
    "start_time": "2021-11-08T18:15:37.510Z"
   },
   {
    "duration": 646,
    "start_time": "2021-11-08T18:15:37.521Z"
   },
   {
    "duration": -838,
    "start_time": "2021-11-08T18:15:39.008Z"
   },
   {
    "duration": -845,
    "start_time": "2021-11-08T18:15:39.016Z"
   },
   {
    "duration": -849,
    "start_time": "2021-11-08T18:15:39.021Z"
   },
   {
    "duration": -852,
    "start_time": "2021-11-08T18:15:39.025Z"
   },
   {
    "duration": -856,
    "start_time": "2021-11-08T18:15:39.030Z"
   },
   {
    "duration": -859,
    "start_time": "2021-11-08T18:15:39.034Z"
   },
   {
    "duration": -862,
    "start_time": "2021-11-08T18:15:39.038Z"
   },
   {
    "duration": -866,
    "start_time": "2021-11-08T18:15:39.043Z"
   },
   {
    "duration": -868,
    "start_time": "2021-11-08T18:15:39.047Z"
   },
   {
    "duration": -871,
    "start_time": "2021-11-08T18:15:39.051Z"
   },
   {
    "duration": -881,
    "start_time": "2021-11-08T18:15:39.063Z"
   },
   {
    "duration": -886,
    "start_time": "2021-11-08T18:15:39.069Z"
   },
   {
    "duration": -889,
    "start_time": "2021-11-08T18:15:39.073Z"
   },
   {
    "duration": -895,
    "start_time": "2021-11-08T18:15:39.080Z"
   },
   {
    "duration": -899,
    "start_time": "2021-11-08T18:15:39.085Z"
   },
   {
    "duration": -903,
    "start_time": "2021-11-08T18:15:39.090Z"
   },
   {
    "duration": -905,
    "start_time": "2021-11-08T18:15:39.094Z"
   },
   {
    "duration": -909,
    "start_time": "2021-11-08T18:15:39.099Z"
   },
   {
    "duration": -912,
    "start_time": "2021-11-08T18:15:39.103Z"
   },
   {
    "duration": -916,
    "start_time": "2021-11-08T18:15:39.108Z"
   },
   {
    "duration": -919,
    "start_time": "2021-11-08T18:15:39.112Z"
   },
   {
    "duration": -922,
    "start_time": "2021-11-08T18:15:39.116Z"
   },
   {
    "duration": -925,
    "start_time": "2021-11-08T18:15:39.120Z"
   },
   {
    "duration": -928,
    "start_time": "2021-11-08T18:15:39.124Z"
   },
   {
    "duration": -939,
    "start_time": "2021-11-08T18:15:39.136Z"
   },
   {
    "duration": -943,
    "start_time": "2021-11-08T18:15:39.141Z"
   },
   {
    "duration": -945,
    "start_time": "2021-11-08T18:15:39.144Z"
   },
   {
    "duration": -949,
    "start_time": "2021-11-08T18:15:39.149Z"
   },
   {
    "duration": -952,
    "start_time": "2021-11-08T18:15:39.153Z"
   },
   {
    "duration": -955,
    "start_time": "2021-11-08T18:15:39.157Z"
   },
   {
    "duration": -958,
    "start_time": "2021-11-08T18:15:39.161Z"
   },
   {
    "duration": -961,
    "start_time": "2021-11-08T18:15:39.165Z"
   },
   {
    "duration": -964,
    "start_time": "2021-11-08T18:15:39.169Z"
   },
   {
    "duration": -912,
    "start_time": "2021-11-08T18:15:39.174Z"
   },
   {
    "duration": -914,
    "start_time": "2021-11-08T18:15:39.178Z"
   },
   {
    "duration": -919,
    "start_time": "2021-11-08T18:15:39.184Z"
   },
   {
    "duration": -923,
    "start_time": "2021-11-08T18:15:39.189Z"
   },
   {
    "duration": -926,
    "start_time": "2021-11-08T18:15:39.193Z"
   },
   {
    "duration": -929,
    "start_time": "2021-11-08T18:15:39.197Z"
   },
   {
    "duration": -932,
    "start_time": "2021-11-08T18:15:39.201Z"
   },
   {
    "duration": -935,
    "start_time": "2021-11-08T18:15:39.205Z"
   },
   {
    "duration": -938,
    "start_time": "2021-11-08T18:15:39.209Z"
   },
   {
    "duration": 6197,
    "start_time": "2021-11-08T18:17:45.830Z"
   },
   {
    "duration": -862,
    "start_time": "2021-11-08T18:17:52.891Z"
   },
   {
    "duration": -867,
    "start_time": "2021-11-08T18:17:52.897Z"
   },
   {
    "duration": -870,
    "start_time": "2021-11-08T18:17:52.901Z"
   },
   {
    "duration": -874,
    "start_time": "2021-11-08T18:17:52.906Z"
   },
   {
    "duration": -878,
    "start_time": "2021-11-08T18:17:52.911Z"
   },
   {
    "duration": -880,
    "start_time": "2021-11-08T18:17:52.914Z"
   },
   {
    "duration": -884,
    "start_time": "2021-11-08T18:17:52.918Z"
   },
   {
    "duration": -888,
    "start_time": "2021-11-08T18:17:52.923Z"
   },
   {
    "duration": -892,
    "start_time": "2021-11-08T18:17:52.928Z"
   },
   {
    "duration": -895,
    "start_time": "2021-11-08T18:17:52.932Z"
   },
   {
    "duration": 395,
    "start_time": "2021-11-08T18:17:52.822Z"
   },
   {
    "duration": 247,
    "start_time": "2021-11-08T18:18:18.829Z"
   },
   {
    "duration": 6334,
    "start_time": "2021-11-08T18:18:24.230Z"
   },
   {
    "duration": 243,
    "start_time": "2021-11-08T18:18:41.340Z"
   },
   {
    "duration": 6659,
    "start_time": "2021-11-08T18:18:43.637Z"
   },
   {
    "duration": 8,
    "start_time": "2021-11-08T18:18:53.053Z"
   },
   {
    "duration": 282,
    "start_time": "2021-11-08T18:18:53.763Z"
   },
   {
    "duration": 207,
    "start_time": "2021-11-08T18:18:54.541Z"
   },
   {
    "duration": 10,
    "start_time": "2021-11-08T18:18:55.867Z"
   },
   {
    "duration": 8,
    "start_time": "2021-11-08T18:18:56.891Z"
   },
   {
    "duration": 268,
    "start_time": "2021-11-08T18:18:57.539Z"
   },
   {
    "duration": 235,
    "start_time": "2021-11-08T18:19:00.428Z"
   },
   {
    "duration": 7,
    "start_time": "2021-11-08T18:19:03.194Z"
   },
   {
    "duration": 295,
    "start_time": "2021-11-08T18:19:03.714Z"
   },
   {
    "duration": 12,
    "start_time": "2021-11-08T18:19:05.474Z"
   },
   {
    "duration": 6,
    "start_time": "2021-11-08T18:19:05.749Z"
   },
   {
    "duration": 240,
    "start_time": "2021-11-08T18:19:06.060Z"
   },
   {
    "duration": 9,
    "start_time": "2021-11-08T18:19:07.114Z"
   },
   {
    "duration": 373,
    "start_time": "2021-11-08T18:19:07.458Z"
   },
   {
    "duration": 7,
    "start_time": "2021-11-08T18:19:08.322Z"
   },
   {
    "duration": 311,
    "start_time": "2021-11-08T18:19:08.690Z"
   },
   {
    "duration": 15,
    "start_time": "2021-11-08T18:19:09.439Z"
   },
   {
    "duration": 316,
    "start_time": "2021-11-08T18:19:09.795Z"
   },
   {
    "duration": 202,
    "start_time": "2021-11-08T18:19:12.346Z"
   },
   {
    "duration": 356,
    "start_time": "2021-11-08T18:19:13.194Z"
   },
   {
    "duration": 335,
    "start_time": "2021-11-08T18:19:13.577Z"
   },
   {
    "duration": 5,
    "start_time": "2021-11-08T18:19:14.559Z"
   },
   {
    "duration": 185,
    "start_time": "2021-11-08T18:19:15.794Z"
   },
   {
    "duration": 8,
    "start_time": "2021-11-08T18:19:16.250Z"
   },
   {
    "duration": 7,
    "start_time": "2021-11-08T18:19:16.675Z"
   },
   {
    "duration": 460,
    "start_time": "2021-11-08T18:19:17.026Z"
   },
   {
    "duration": 7,
    "start_time": "2021-11-08T18:19:17.488Z"
   },
   {
    "duration": 185,
    "start_time": "2021-11-08T18:19:25.072Z"
   },
   {
    "duration": 11,
    "start_time": "2021-11-08T18:19:25.558Z"
   },
   {
    "duration": 12,
    "start_time": "2021-11-08T18:19:26.138Z"
   },
   {
    "duration": 8,
    "start_time": "2021-11-08T18:19:28.539Z"
   },
   {
    "duration": 7,
    "start_time": "2021-11-08T18:19:29.034Z"
   },
   {
    "duration": 7,
    "start_time": "2021-11-08T18:19:32.249Z"
   },
   {
    "duration": 14,
    "start_time": "2021-11-08T18:19:34.121Z"
   },
   {
    "duration": 11,
    "start_time": "2021-11-08T18:19:35.417Z"
   },
   {
    "duration": 10,
    "start_time": "2021-11-08T18:19:36.305Z"
   },
   {
    "duration": 6,
    "start_time": "2021-11-08T18:19:36.721Z"
   },
   {
    "duration": 335,
    "start_time": "2021-11-09T06:37:38.384Z"
   },
   {
    "duration": 1173,
    "start_time": "2021-11-09T06:37:44.167Z"
   },
   {
    "duration": 232,
    "start_time": "2021-11-09T06:37:45.342Z"
   },
   {
    "duration": 4,
    "start_time": "2021-11-09T06:37:49.409Z"
   },
   {
    "duration": 21,
    "start_time": "2021-11-09T06:37:54.052Z"
   },
   {
    "duration": 26,
    "start_time": "2021-11-09T06:37:55.333Z"
   },
   {
    "duration": 20,
    "start_time": "2021-11-09T06:37:55.735Z"
   },
   {
    "duration": 3,
    "start_time": "2021-11-09T06:37:59.906Z"
   },
   {
    "duration": 6,
    "start_time": "2021-11-09T06:38:00.224Z"
   },
   {
    "duration": 5,
    "start_time": "2021-11-09T06:38:00.992Z"
   },
   {
    "duration": 8,
    "start_time": "2021-11-09T06:38:01.471Z"
   },
   {
    "duration": 12,
    "start_time": "2021-11-09T06:38:02.348Z"
   },
   {
    "duration": 9,
    "start_time": "2021-11-09T06:38:08.743Z"
   },
   {
    "duration": 6,
    "start_time": "2021-11-09T06:38:10.571Z"
   },
   {
    "duration": 10,
    "start_time": "2021-11-09T06:38:10.846Z"
   },
   {
    "duration": 5,
    "start_time": "2021-11-09T06:38:14.501Z"
   },
   {
    "duration": 5841,
    "start_time": "2021-11-09T06:39:29.939Z"
   },
   {
    "duration": 10,
    "start_time": "2021-11-09T06:39:47.790Z"
   },
   {
    "duration": 1280,
    "start_time": "2021-11-09T06:39:59.374Z"
   },
   {
    "duration": 4,
    "start_time": "2021-11-09T06:40:07.388Z"
   },
   {
    "duration": 24,
    "start_time": "2021-11-09T06:40:07.792Z"
   },
   {
    "duration": 3,
    "start_time": "2021-11-09T06:40:15.707Z"
   },
   {
    "duration": 9,
    "start_time": "2021-11-09T06:40:20.090Z"
   },
   {
    "duration": 5,
    "start_time": "2021-11-09T06:40:25.143Z"
   },
   {
    "duration": 10,
    "start_time": "2021-11-09T06:40:30.636Z"
   },
   {
    "duration": 5,
    "start_time": "2021-11-09T06:41:09.392Z"
   },
   {
    "duration": 12,
    "start_time": "2021-11-09T06:41:09.399Z"
   },
   {
    "duration": 695,
    "start_time": "2021-11-09T06:41:41.338Z"
   },
   {
    "duration": 5,
    "start_time": "2021-11-09T06:42:02.910Z"
   },
   {
    "duration": 25,
    "start_time": "2021-11-09T06:43:01.476Z"
   },
   {
    "duration": 13,
    "start_time": "2021-11-09T06:43:42.354Z"
   },
   {
    "duration": 12,
    "start_time": "2021-11-09T06:44:08.001Z"
   },
   {
    "duration": 535,
    "start_time": "2021-11-09T06:44:12.585Z"
   },
   {
    "duration": 232,
    "start_time": "2021-11-09T06:52:22.229Z"
   },
   {
    "duration": 7,
    "start_time": "2021-11-09T06:52:35.163Z"
   },
   {
    "duration": 194,
    "start_time": "2021-11-09T06:52:35.852Z"
   },
   {
    "duration": 139,
    "start_time": "2021-11-09T06:52:36.390Z"
   },
   {
    "duration": 10,
    "start_time": "2021-11-09T06:52:39.424Z"
   },
   {
    "duration": 11,
    "start_time": "2021-11-09T06:52:39.644Z"
   },
   {
    "duration": 401,
    "start_time": "2021-11-09T06:52:40.245Z"
   },
   {
    "duration": 297,
    "start_time": "2021-11-09T06:54:11.607Z"
   },
   {
    "duration": 373,
    "start_time": "2021-11-09T06:54:26.450Z"
   },
   {
    "duration": 305,
    "start_time": "2021-11-09T06:54:36.151Z"
   },
   {
    "duration": 310,
    "start_time": "2021-11-09T06:54:42.694Z"
   },
   {
    "duration": 7,
    "start_time": "2021-11-09T06:54:51.931Z"
   },
   {
    "duration": 13,
    "start_time": "2021-11-09T06:54:54.852Z"
   },
   {
    "duration": 6,
    "start_time": "2021-11-09T06:54:55.143Z"
   },
   {
    "duration": 9,
    "start_time": "2021-11-09T06:54:59.364Z"
   },
   {
    "duration": 7,
    "start_time": "2021-11-09T06:55:03.609Z"
   },
   {
    "duration": 8,
    "start_time": "2021-11-09T06:55:07.351Z"
   },
   {
    "duration": 174,
    "start_time": "2021-11-09T06:55:15.949Z"
   },
   {
    "duration": 6,
    "start_time": "2021-11-09T06:55:20.831Z"
   },
   {
    "duration": 115,
    "start_time": "2021-11-09T06:55:25.492Z"
   },
   {
    "duration": 7,
    "start_time": "2021-11-09T06:55:25.962Z"
   },
   {
    "duration": 8,
    "start_time": "2021-11-09T06:55:26.738Z"
   },
   {
    "duration": 8,
    "start_time": "2021-11-09T06:55:34.629Z"
   },
   {
    "duration": 8,
    "start_time": "2021-11-09T06:55:56.086Z"
   },
   {
    "duration": 9,
    "start_time": "2021-11-09T06:56:07.046Z"
   },
   {
    "duration": 6,
    "start_time": "2021-11-09T06:58:22.885Z"
   },
   {
    "duration": 6,
    "start_time": "2021-11-09T06:58:29.143Z"
   },
   {
    "duration": 5,
    "start_time": "2021-11-09T06:58:34.671Z"
   },
   {
    "duration": 6,
    "start_time": "2021-11-09T06:58:52.068Z"
   },
   {
    "duration": 260,
    "start_time": "2021-11-09T07:00:07.591Z"
   },
   {
    "duration": 7,
    "start_time": "2021-11-09T07:00:40.921Z"
   },
   {
    "duration": 7,
    "start_time": "2021-11-09T07:00:50.241Z"
   },
   {
    "duration": 247,
    "start_time": "2021-11-09T07:00:56.595Z"
   },
   {
    "duration": 11,
    "start_time": "2021-11-09T07:00:59.828Z"
   },
   {
    "duration": 10,
    "start_time": "2021-11-09T07:01:00.555Z"
   },
   {
    "duration": 8,
    "start_time": "2021-11-09T07:01:07.915Z"
   },
   {
    "duration": 9,
    "start_time": "2021-11-09T07:01:15.982Z"
   },
   {
    "duration": 10,
    "start_time": "2021-11-09T07:01:19.688Z"
   },
   {
    "duration": 6,
    "start_time": "2021-11-09T07:01:20.373Z"
   },
   {
    "duration": 6,
    "start_time": "2021-11-09T07:01:25.059Z"
   },
   {
    "duration": 7,
    "start_time": "2021-11-09T07:01:33.876Z"
   },
   {
    "duration": 7,
    "start_time": "2021-11-09T07:01:37.441Z"
   },
   {
    "duration": 1098,
    "start_time": "2021-11-09T08:14:59.845Z"
   },
   {
    "duration": 340,
    "start_time": "2021-11-09T08:15:00.945Z"
   },
   {
    "duration": 5,
    "start_time": "2021-11-09T08:15:01.287Z"
   },
   {
    "duration": 40,
    "start_time": "2021-11-09T08:15:01.294Z"
   },
   {
    "duration": 25,
    "start_time": "2021-11-09T08:15:01.335Z"
   },
   {
    "duration": 34,
    "start_time": "2021-11-09T08:15:01.362Z"
   },
   {
    "duration": 3,
    "start_time": "2021-11-09T08:15:01.398Z"
   },
   {
    "duration": 14,
    "start_time": "2021-11-09T08:15:01.403Z"
   },
   {
    "duration": 9,
    "start_time": "2021-11-09T08:15:01.419Z"
   },
   {
    "duration": 15,
    "start_time": "2021-11-09T08:15:01.430Z"
   },
   {
    "duration": 17,
    "start_time": "2021-11-09T08:15:01.447Z"
   },
   {
    "duration": 6,
    "start_time": "2021-11-09T08:15:01.466Z"
   },
   {
    "duration": 19,
    "start_time": "2021-11-09T08:15:01.474Z"
   },
   {
    "duration": 11,
    "start_time": "2021-11-09T08:15:01.495Z"
   },
   {
    "duration": 9,
    "start_time": "2021-11-09T08:15:01.508Z"
   },
   {
    "duration": 13,
    "start_time": "2021-11-09T08:15:01.519Z"
   },
   {
    "duration": 15,
    "start_time": "2021-11-09T08:15:01.534Z"
   },
   {
    "duration": 4,
    "start_time": "2021-11-09T08:15:01.551Z"
   },
   {
    "duration": 13,
    "start_time": "2021-11-09T08:15:01.557Z"
   },
   {
    "duration": 388,
    "start_time": "2021-11-09T08:15:01.572Z"
   },
   {
    "duration": 6,
    "start_time": "2021-11-09T08:15:01.962Z"
   },
   {
    "duration": 215,
    "start_time": "2021-11-09T08:15:01.969Z"
   },
   {
    "duration": 168,
    "start_time": "2021-11-09T08:15:02.188Z"
   },
   {
    "duration": 7,
    "start_time": "2021-11-09T08:15:02.358Z"
   },
   {
    "duration": 25,
    "start_time": "2021-11-09T08:15:02.366Z"
   },
   {
    "duration": 274,
    "start_time": "2021-11-09T08:15:02.393Z"
   },
   {
    "duration": 250,
    "start_time": "2021-11-09T08:15:02.669Z"
   },
   {
    "duration": 7,
    "start_time": "2021-11-09T08:15:02.920Z"
   },
   {
    "duration": 349,
    "start_time": "2021-11-09T08:15:02.928Z"
   },
   {
    "duration": 20,
    "start_time": "2021-11-09T08:15:03.279Z"
   },
   {
    "duration": 18,
    "start_time": "2021-11-09T08:15:03.300Z"
   },
   {
    "duration": 268,
    "start_time": "2021-11-09T08:15:03.320Z"
   },
   {
    "duration": 7,
    "start_time": "2021-11-09T08:15:03.592Z"
   },
   {
    "duration": 371,
    "start_time": "2021-11-09T08:15:03.601Z"
   },
   {
    "duration": 6,
    "start_time": "2021-11-09T08:15:03.974Z"
   },
   {
    "duration": 319,
    "start_time": "2021-11-09T08:15:03.991Z"
   },
   {
    "duration": 8,
    "start_time": "2021-11-09T08:15:04.312Z"
   },
   {
    "duration": 329,
    "start_time": "2021-11-09T08:15:04.322Z"
   },
   {
    "duration": 223,
    "start_time": "2021-11-09T08:15:04.653Z"
   },
   {
    "duration": 358,
    "start_time": "2021-11-09T08:15:04.877Z"
   },
   {
    "duration": 308,
    "start_time": "2021-11-09T08:15:05.236Z"
   },
   {
    "duration": 4,
    "start_time": "2021-11-09T08:15:05.546Z"
   },
   {
    "duration": 227,
    "start_time": "2021-11-09T08:15:05.552Z"
   },
   {
    "duration": 15,
    "start_time": "2021-11-09T08:15:05.781Z"
   },
   {
    "duration": 7,
    "start_time": "2021-11-09T08:15:05.797Z"
   },
   {
    "duration": 342,
    "start_time": "2021-11-09T08:15:05.805Z"
   },
   {
    "duration": 5,
    "start_time": "2021-11-09T08:15:06.149Z"
   },
   {
    "duration": 108,
    "start_time": "2021-11-09T08:15:06.155Z"
   },
   {
    "duration": 7,
    "start_time": "2021-11-09T08:15:06.264Z"
   },
   {
    "duration": 23,
    "start_time": "2021-11-09T08:15:06.273Z"
   },
   {
    "duration": 5,
    "start_time": "2021-11-09T08:15:06.297Z"
   },
   {
    "duration": 8,
    "start_time": "2021-11-09T08:15:06.304Z"
   },
   {
    "duration": 6,
    "start_time": "2021-11-09T08:15:06.314Z"
   },
   {
    "duration": 8,
    "start_time": "2021-11-09T08:15:06.322Z"
   },
   {
    "duration": 12,
    "start_time": "2021-11-09T08:15:06.332Z"
   },
   {
    "duration": 7,
    "start_time": "2021-11-09T08:15:06.346Z"
   },
   {
    "duration": 39,
    "start_time": "2021-11-09T08:15:06.354Z"
   }
  ],
  "kernelspec": {
   "display_name": "Python 3",
   "language": "python",
   "name": "python3"
  },
  "language_info": {
   "codemirror_mode": {
    "name": "ipython",
    "version": 3
   },
   "file_extension": ".py",
   "mimetype": "text/x-python",
   "name": "python",
   "nbconvert_exporter": "python",
   "pygments_lexer": "ipython3",
   "version": "3.8.8"
  },
  "toc": {
   "base_numbering": 1,
   "nav_menu": {},
   "number_sections": true,
   "sideBar": true,
   "skip_h1_title": true,
   "title_cell": "Table of Contents",
   "title_sidebar": "Contents",
   "toc_cell": false,
   "toc_position": {},
   "toc_section_display": true,
   "toc_window_display": false
  }
 },
 "nbformat": 4,
 "nbformat_minor": 5
}
